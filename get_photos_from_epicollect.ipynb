{
 "cells": [
  {
   "cell_type": "markdown",
   "metadata": {},
   "source": [
    "# Get Photos From an Epicollect Project"
   ]
  },
  {
   "cell_type": "code",
   "execution_count": 1,
   "metadata": {},
   "outputs": [],
   "source": [
    "import sys\n",
    "#sys.path.append('..')\n",
    "import os\n",
    "import pprint\n",
    "import pyepicollect as pyep\n",
    "from IPython import display\n",
    "import pandas as pd\n",
    "import glob"
   ]
  },
  {
   "cell_type": "markdown",
   "metadata": {},
   "source": [
    "## Project Setup"
   ]
  },
  {
   "cell_type": "code",
   "execution_count": 2,
   "metadata": {},
   "outputs": [],
   "source": [
    "# Create a new app if it does not already exist. You will need to be assigned as a manager to create an app.\n",
    "# An app can be created in project dashboard in 'Apps' section by clicking on 'Create New App'\n",
    "TEST_CLIENT_ID = '<insert from Epicollect project\\'s Dashboard\\'s Apps section>'\n",
    "TEST_CLIENT_SECRET = '<insert from Epicollect project\\'s Dashboard\\'s Apps section>' \n",
    "TEST_NAME = 'ABoVE'\n",
    "TEST_SLUG = 'ABoVE'\n",
    "token = pyep.auth.request_token(TEST_CLIENT_ID, TEST_CLIENT_SECRET)"
   ]
  },
  {
   "cell_type": "markdown",
   "metadata": {},
   "source": [
    "## Directory Paths"
   ]
  },
  {
   "cell_type": "code",
   "execution_count": 3,
   "metadata": {},
   "outputs": [],
   "source": [
    "cwd = os.getcwd()\n",
    "data_path = '<create a folder and provide path here>'\n",
    "# All the csv files from the project need to be downloaded in this folder before proceeding to the next step"
   ]
  },
  {
   "cell_type": "markdown",
   "metadata": {},
   "source": [
    "# Media Save"
   ]
  },
  {
   "cell_type": "code",
   "execution_count": 4,
   "metadata": {},
   "outputs": [],
   "source": [
    "def save_photos(output_dir, filename, media):\n",
    "    with open(os.path.join(output_dir,filename), 'wb') as f:\n",
    "        f.write(media.content)"
   ]
  },
  {
   "cell_type": "markdown",
   "metadata": {},
   "source": [
    "## CSV read"
   ]
  },
  {
   "cell_type": "code",
   "execution_count": 5,
   "metadata": {},
   "outputs": [],
   "source": [
    "os.chdir(cwd)"
   ]
  },
  {
   "cell_type": "code",
   "execution_count": 7,
   "metadata": {},
   "outputs": [
    {
     "name": "stdout",
     "output_type": "stream",
     "text": [
      "Processing... form-3__sample.csv\n",
      "Photo columns are:  ['36_Bark_Photo', '37_Leaf_Photo', '42_Plot_Sketch_Photo']\n",
      "Processing column:  36_Bark_Photo\n",
      "Processing column:  37_Leaf_Photo\n",
      "Processing column:  42_Plot_Sketch_Photo\n",
      "Processing... form-1__site.csv\n",
      "Photo columns are:  []\n",
      "Processing... form-2__plot.csv\n",
      "Photo columns are:  ['25_Photo_Up_1', '26_Photo_Up_2', '27_Photo_Up_3', '28_Photo_Up_4', '29_Photo_Down']\n",
      "Processing column:  25_Photo_Up_1\n",
      "Processing column:  26_Photo_Up_2\n",
      "Processing column:  27_Photo_Up_3\n",
      "Processing column:  28_Photo_Up_4\n",
      "Processing column:  29_Photo_Down\n",
      "Processing... form-4__measurements.csv\n",
      "Photo columns are:  []\n",
      "Processing... branch-1__optional-additional-photos.csv\n",
      "Photo columns are:  ['44_More_Photos']\n",
      "Processing column:  44_More_Photos\n"
     ]
    }
   ],
   "source": [
    "# # get all csvs in the folder\n",
    "os.chdir(data_path)\n",
    "files = glob.glob(\"*.csv\")\n",
    "\n",
    "for file in files:\n",
    "    print('Processing... ' + file)\n",
    "    df = pd.read_csv(file, index_col=None)\n",
    "    photo_cols = [col for col in df.columns if 'photo' in col.lower()]\n",
    "    print('Photo columns are: ', photo_cols)\n",
    "    \n",
    "    for col in photo_cols:\n",
    "        if not any(x in col.lower() for x in ['description', 'additional']):\n",
    "            print(\"Processing column: \", col)\n",
    "            new_dir = os.path.join(data_path, col)\n",
    "            if not os.path.isdir(new_dir):\n",
    "                os.mkdir(new_dir)\n",
    "            if not df[col].empty:\n",
    "                photo_notna = df[col].notna()\n",
    "                for photo_file in df.loc[photo_notna, col]:\n",
    "#                     print(photo_file)\n",
    "                    media = pyep.api.get_media(TEST_SLUG, photo_file, token=token['access_token'])\n",
    "                    save_photos(new_dir, photo_file, media)"
   ]
  },
  {
   "cell_type": "code",
   "execution_count": null,
   "metadata": {},
   "outputs": [],
   "source": []
  },
  {
   "cell_type": "code",
   "execution_count": null,
   "metadata": {},
   "outputs": [],
   "source": []
  },
  {
   "cell_type": "code",
   "execution_count": null,
   "metadata": {},
   "outputs": [],
   "source": []
  }
 ],
 "metadata": {
  "kernelspec": {
   "display_name": "Python 3",
   "language": "python",
   "name": "python3"
  },
  "language_info": {
   "codemirror_mode": {
    "name": "ipython",
    "version": 3
   },
   "file_extension": ".py",
   "mimetype": "text/x-python",
   "name": "python",
   "nbconvert_exporter": "python",
   "pygments_lexer": "ipython3",
   "version": "3.8.5"
  }
 },
 "nbformat": 4,
 "nbformat_minor": 4
}
